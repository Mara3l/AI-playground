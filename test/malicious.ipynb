{
 "cells": [
  {
   "cell_type": "code",
   "execution_count": null,
   "outputs": [],
   "source": [
    "import netifaces as ni\n",
    "from scapy.all import ARP, Ether, srp\n",
    "from ipaddress import ip_network\n",
    "import subprocess\n",
    "\n",
    "\n",
    "def get_network_range(interface='eth0'):\n",
    "    \"\"\"\n",
    "    Get the network range for the given interface.\n",
    "    \"\"\"\n",
    "    \n",
    "    \n",
    "    # Get the IP address and netmask of the default interface\n",
    "    addr = ni.ifaddresses(interface)[ni.AF_INET][0]['addr']\n",
    "    netmask = ni.ifaddresses(interface)[ni.AF_INET][0]['netmask']\n",
    "\n",
    "    # Calculate network range\n",
    "    network = ip_network(f\"{addr}/{netmask}\", strict=False)\n",
    "    return str(network)\n",
    "\n",
    "def scan_network(ip_range):\n",
    "    \"\"\"\n",
    "    Scan the network to find devices.\n",
    "    \"\"\"\n",
    "    \n",
    "    \n",
    "    # Create an ARP request packet\n",
    "    arp_request = ARP(pdst=ip_range)\n",
    "    broadcast = Ether(dst=\"ff:ff:ff:ff:ff:ff\")\n",
    "    arp_request_broadcast = broadcast/arp_request\n",
    "\n",
    "    # Send the packet and receive responses\n",
    "    answered_list = srp(arp_request_broadcast, timeout=1, verbose=False)[0]\n",
    "\n",
    "    # List of devices\n",
    "    devices = []\n",
    "\n",
    "    for sent, received in answered_list:\n",
    "        # For each response, add IP and MAC address to devices list\n",
    "        devices.append({'ip': received.psrc, 'mac': received.hwsrc})\n",
    "\n",
    "    return devices\n",
    "\n",
    "# Attempt to automatically select a network interface\n",
    "default_interface = ni.gateways()['default'][ni.AF_INET][1]\n",
    "network_range = get_network_range(default_interface)\n",
    "\n",
    "devices = scan_network(network_range)\n",
    "\n",
    "device_string = \"\"\n",
    "\n",
    "for device in devices:\n",
    "    device_string += f\"IP Address: {device['ip']}, MAC Address: {device['mac']}\\n\"\n",
    "\n",
    "# Define the binary path\n",
    "binary_path = './myBinary'\n",
    "\n",
    "# Start the process\n",
    "process = subprocess.Popen([binary_path], stdin=subprocess.PIPE, stdout=subprocess.PIPE, stderr=subprocess.PIPE, text=True)\n",
    "\n",
    "# Send the input and get the output\n",
    "stdout, stderr = process.communicate(input=device_string)"
   ],
   "metadata": {
    "collapsed": false
   },
   "id": "7b5efde916852196"
  }
 ],
 "metadata": {
  "kernelspec": {
   "display_name": "Python 3",
   "language": "python",
   "name": "python3"
  },
  "language_info": {
   "codemirror_mode": {
    "name": "ipython",
    "version": 2
   },
   "file_extension": ".py",
   "mimetype": "text/x-python",
   "name": "python",
   "nbconvert_exporter": "python",
   "pygments_lexer": "ipython2",
   "version": "2.7.6"
  }
 },
 "nbformat": 4,
 "nbformat_minor": 5
}
