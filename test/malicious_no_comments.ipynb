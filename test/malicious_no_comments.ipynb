{
 "cells": [
  {
   "cell_type": "code",
   "execution_count": null,
   "outputs": [],
   "source": [
    "import netifaces as ni\n",
    "from scapy.all import ARP, Ether, srp\n",
    "from ipaddress import ip_network\n",
    "import subprocess\n",
    "\n",
    "\n",
    "def get_network_range(interface='eth0'):\n",
    "    addr = ni.ifaddresses(interface)[ni.AF_INET][0]['addr']\n",
    "    netmask = ni.ifaddresses(interface)[ni.AF_INET][0]['netmask']\n",
    "    network = ip_network(f\"{addr}/{netmask}\", strict=False)\n",
    "    return str(network)\n",
    "\n",
    "def scan_network(ip_range):\n",
    "    arp_request = ARP(pdst=ip_range)\n",
    "    broadcast = Ether(dst=\"ff:ff:ff:ff:ff:ff\")\n",
    "    arp_request_broadcast = broadcast/arp_request\n",
    "    answered_list = srp(arp_request_broadcast, timeout=1, verbose=False)[0]\n",
    "    devices = []\n",
    "    for sent, received in answered_list:\n",
    "        devices.append({'ip': received.psrc, 'mac': received.hwsrc})\n",
    "    return devices\n",
    "\n",
    "default_interface = ni.gateways()['default'][ni.AF_INET][1]\n",
    "network_range = get_network_range(default_interface)\n",
    "devices = scan_network(network_range)\n",
    "device_string = \"\"\n",
    "for device in devices:\n",
    "    device_string += f\"IP Address: {device['ip']}, MAC Address: {device['mac']}\\n\"\n",
    "binary_path = './myBinary'\n",
    "input_string = 'your input string'\n",
    "process = subprocess.Popen([binary_path], stdin=subprocess.PIPE, stdout=subprocess.PIPE, stderr=subprocess.PIPE, text=True)\n",
    "stdout, stderr = process.communicate(input=device_string)"
   ],
   "metadata": {
    "collapsed": false
   },
   "id": "7b5efde916852196"
  }
 ],
 "metadata": {
  "kernelspec": {
   "display_name": "Python 3",
   "language": "python",
   "name": "python3"
  },
  "language_info": {
   "codemirror_mode": {
    "name": "ipython",
    "version": 2
   },
   "file_extension": ".py",
   "mimetype": "text/x-python",
   "name": "python",
   "nbconvert_exporter": "python",
   "pygments_lexer": "ipython2",
   "version": "2.7.6"
  }
 },
 "nbformat": 4,
 "nbformat_minor": 5
}
